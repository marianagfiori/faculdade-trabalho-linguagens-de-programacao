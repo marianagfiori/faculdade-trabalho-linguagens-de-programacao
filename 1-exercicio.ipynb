{
 "cells": [
  {
   "cell_type": "code",
   "execution_count": 1,
   "metadata": {},
   "outputs": [],
   "source": [
    "from math import sqrt"
   ]
  },
  {
   "cell_type": "code",
   "execution_count": 2,
   "metadata": {},
   "outputs": [],
   "source": [
    "#classe da calculadora\n",
    "class Calculadora():\n",
    "    def __init__(self, primeiro_numero, segundo_numero):\n",
    "        self.primeiro_numero = int(primeiro_numero)\n",
    "        self.segundo_numero = int(segundo_numero)\n",
    "\n",
    "    def soma(self):\n",
    "        resultado = self.primeiro_numero + self.segundo_numero\n",
    "        return print(f'{self.primeiro_numero} + {self.segundo_numero} = {resultado}')\n",
    "    \n",
    "    def subtracao(self):\n",
    "        resultado = self.primeiro_numero - self.segundo_numero\n",
    "        return print(f'{self.primeiro_numero} - {self.segundo_numero} = {resultado}')\n",
    "    \n",
    "    def multiplicacao(self):\n",
    "        resultado = self.primeiro_numero * self.segundo_numero\n",
    "        return print(f'{self.primeiro_numero} X {self.segundo_numero} = {resultado}')\n",
    "    \n",
    "    def divisao(self):\n",
    "        resultado = self.primeiro_numero // self.segundo_numero\n",
    "        return print(f'{self.primeiro_numero} / {self.segundo_numero} = {resultado} ')\n",
    "    \n",
    "    def expoente(self):\n",
    "        resultado = self.primeiro_numero ** self.segundo_numero\n",
    "        return print(f'{self.primeiro_numero} ^ {self.segundo_numero} = {resultado}')\n",
    "    \n",
    "    def resto(self):\n",
    "        resultado = self.primeiro_numero % self.segundo_numero\n",
    "        return print(f'{self.primeiro_numero} % {self.segundo_numero} = {resultado}')\n",
    "    \n",
    "    def raiz_quadrada(self):\n",
    "        resultado = sqrt(self.primeiro_numero + self.segundo_numero)\n",
    "        return print(f'A raíz quadrada de {self.primeiro_numero + self.segundo_numero} é {int(resultado)}')"
   ]
  },
  {
   "cell_type": "code",
   "execution_count": 4,
   "metadata": {},
   "outputs": [
    {
     "name": "stdout",
     "output_type": "stream",
     "text": [
      "**********MENU**********\n",
      " 1 - Soma \n",
      " 2 - Subtração \n",
      " 3 - Multiplicação \n",
      " 4 - Divisão \n",
      " 5 - Potenciação \n",
      " 6 - Resto de divisão \n",
      " 7 - Raíz quadrada \n",
      " 0 - Sair \n",
      " \n",
      "A operação escolhida foi exponenciação:\n",
      "2 ^ 2 = 4\n"
     ]
    }
   ],
   "source": [
    "# menu\n",
    "print('**********MENU**********')\n",
    "\n",
    "print(' 1 - Soma \\n 2 - Subtração \\n 3 - Multiplicação \\n 4 - Divisão \\n 5 - Potenciação \\n 6 - Resto de divisão \\n 7 - Raíz quadrada \\n 0 - Sair \\n ')\n",
    "\n",
    "opcao = int(input('Digite o número da operação matemática que deseja realizar: '))\n",
    "\n",
    "# lê os números e os classifica\n",
    "try:\n",
    "    numeros = Calculadora(input('Digite um número: '), input('Digite outro número: '))\n",
    "except ValueError:\n",
    "    print('Digite apenas números inteiros inteiro')\n",
    "\n",
    "# laço que seleciona e chama o método de cálculo\n",
    "while opcao != 0:\n",
    "    if opcao == 1:\n",
    "        print('A operação escolhida foi adição:')\n",
    "        numeros.soma()\n",
    "        break\n",
    "    elif opcao == 2:\n",
    "        print('A operação escolhida foi subtração:')\n",
    "        numeros.subtracao()\n",
    "        break\n",
    "    elif opcao == 3:\n",
    "        print('A operação escolhida foi multiplicação:')\n",
    "        numeros.multiplicacao()\n",
    "        break\n",
    "    elif opcao == 4:\n",
    "        print('A operação escolhida foi divisão:')\n",
    "        numeros.divisao()\n",
    "        break\n",
    "    elif opcao == 5:\n",
    "        print('A operação escolhida foi exponenciação:')\n",
    "        numeros.expoente()\n",
    "        break\n",
    "    elif opcao == 6:\n",
    "        print('A operação escolhida foi resto de divisão:')\n",
    "        numeros.resto()\n",
    "        break\n",
    "    elif opcao == 7:\n",
    "        print('A operação escolhida foi radiciação:')\n",
    "        numeros.raiz_quadrada()\n",
    "        break\n",
    "    elif opcao == 0:\n",
    "        break\n",
    "    else:\n",
    "        print('Digite um número válido!')\n",
    "        continue"
   ]
  },
  {
   "cell_type": "code",
   "execution_count": null,
   "metadata": {},
   "outputs": [],
   "source": []
  }
 ],
 "metadata": {
  "kernelspec": {
   "display_name": "Python 3",
   "language": "python",
   "name": "python3"
  },
  "language_info": {
   "codemirror_mode": {
    "name": "ipython",
    "version": 3
   },
   "file_extension": ".py",
   "mimetype": "text/x-python",
   "name": "python",
   "nbconvert_exporter": "python",
   "pygments_lexer": "ipython3",
   "version": "3.10.6"
  },
  "orig_nbformat": 4
 },
 "nbformat": 4,
 "nbformat_minor": 2
}

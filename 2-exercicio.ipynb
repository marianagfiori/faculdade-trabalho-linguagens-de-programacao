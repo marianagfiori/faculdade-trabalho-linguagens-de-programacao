{
 "cells": [
  {
   "cell_type": "code",
   "execution_count": 36,
   "metadata": {},
   "outputs": [],
   "source": [
    "import numpy as np\n",
    "import plotly.express as px"
   ]
  },
  {
   "cell_type": "code",
   "execution_count": 3,
   "metadata": {},
   "outputs": [],
   "source": [
    "# numeros do meu ru\n",
    "a = 3\n",
    "b = 8\n",
    "c = 3"
   ]
  },
  {
   "cell_type": "code",
   "execution_count": 21,
   "metadata": {},
   "outputs": [
    {
     "name": "stdout",
     "output_type": "stream",
     "text": [
      "[9.38875863e-01 1.20413650e-01 7.98572149e-01 7.33165660e-01\n",
      " 1.47859556e-01 6.47142534e-05 5.91277890e-01 7.61824177e-01\n",
      " 5.34454941e-01 1.70199860e-01]\n"
     ]
    }
   ],
   "source": [
    "# gera vetor com números aleatórios\n",
    "rng = np.random.default_rng()\n",
    "x = rng.random(10)\n",
    "print(x)"
   ]
  },
  {
   "cell_type": "code",
   "execution_count": 57,
   "metadata": {},
   "outputs": [
    {
     "name": "stdout",
     "output_type": "stream",
     "text": [
      "\n",
      " Equação linear: y = ax + bx - c\n",
      "y = 3 X 0.9388758631790798 + 8 X 0.9388758631790798 - 3\n",
      "Resultado: X = 0.9388758631790798  Y = 7.327634494969878\n",
      "\n",
      " Equação linear: y = ax + bx - c\n",
      "y = 3 X 0.12041365014028194 + 8 X 0.12041365014028194 - 3\n",
      "Resultado: X = 0.12041365014028194  Y = -1.6754498484568987\n",
      "\n",
      " Equação linear: y = ax + bx - c\n",
      "y = 3 X 0.798572148750537 + 8 X 0.798572148750537 - 3\n",
      "Resultado: X = 0.798572148750537  Y = 5.7842936362559065\n",
      "\n",
      " Equação linear: y = ax + bx - c\n",
      "y = 3 X 0.7331656596674361 + 8 X 0.7331656596674361 - 3\n",
      "Resultado: X = 0.7331656596674361  Y = 5.064822256341797\n",
      "\n",
      " Equação linear: y = ax + bx - c\n",
      "y = 3 X 0.14785955606775147 + 8 X 0.14785955606775147 - 3\n",
      "Resultado: X = 0.14785955606775147  Y = -1.3735448832547337\n",
      "\n",
      " Equação linear: y = ax + bx - c\n",
      "y = 3 X 6.471425343312909e-05 + 8 X 6.471425343312909e-05 - 3\n",
      "Resultado: X = 6.471425343312909e-05  Y = -2.999288143212236\n",
      "\n",
      " Equação linear: y = ax + bx - c\n",
      "y = 3 X 0.59127789039977 + 8 X 0.59127789039977 - 3\n",
      "Resultado: X = 0.59127789039977  Y = 3.50405679439747\n",
      "\n",
      " Equação linear: y = ax + bx - c\n",
      "y = 3 X 0.7618241774858482 + 8 X 0.7618241774858482 - 3\n",
      "Resultado: X = 0.7618241774858482  Y = 5.38006595234433\n",
      "\n",
      " Equação linear: y = ax + bx - c\n",
      "y = 3 X 0.5344549408591007 + 8 X 0.5344549408591007 - 3\n",
      "Resultado: X = 0.5344549408591007  Y = 2.879004349450108\n",
      "\n",
      " Equação linear: y = ax + bx - c\n",
      "y = 3 X 0.17019985952293515 + 8 X 0.17019985952293515 - 3\n",
      "Resultado: X = 0.17019985952293515  Y = -1.1278015452477135\n"
     ]
    }
   ],
   "source": [
    "# calcula os valores dos pontos da equação linear\n",
    "y = []\n",
    "resultx_y = [] #legenda do gráfico\n",
    "for num in x:\n",
    "    resultado = (a*num) + (b*num) - c\n",
    "    print('\\n Equação linear: y = ax + bx - c')\n",
    "    print(f'y = {a} X {num} + {b} X {num} - {c}')\n",
    "    print(f'Resultado: X = {num}  Y = {resultado}')\n",
    "    x_y = f' X = {num}  Y = {resultado}'\n",
    "    resultx_y.append(x_y)\n",
    "    y.append(resultado)"
   ]
  },
  {
   "cell_type": "code",
   "execution_count": 58,
   "metadata": {},
   "outputs": [
    {
     "data": {
      "application/vnd.plotly.v1+json": {
       "config": {
        "plotlyServerURL": "https://plot.ly"
       },
       "data": [
        {
         "hovertemplate": "color= X = 0.9388758631790798  Y = 7.327634494969878<br>x=%{x}<br>y=%{y}<extra></extra>",
         "legendgroup": " X = 0.9388758631790798  Y = 7.327634494969878",
         "marker": {
          "color": "#636efa",
          "symbol": "circle"
         },
         "mode": "markers",
         "name": " X = 0.9388758631790798  Y = 7.327634494969878",
         "orientation": "v",
         "showlegend": true,
         "type": "scatter",
         "x": [
          0.9388758631790798
         ],
         "xaxis": "x",
         "y": [
          7.327634494969878
         ],
         "yaxis": "y"
        },
        {
         "hovertemplate": "color= X = 0.12041365014028194  Y = -1.6754498484568987<br>x=%{x}<br>y=%{y}<extra></extra>",
         "legendgroup": " X = 0.12041365014028194  Y = -1.6754498484568987",
         "marker": {
          "color": "#EF553B",
          "symbol": "circle"
         },
         "mode": "markers",
         "name": " X = 0.12041365014028194  Y = -1.6754498484568987",
         "orientation": "v",
         "showlegend": true,
         "type": "scatter",
         "x": [
          0.12041365014028194
         ],
         "xaxis": "x",
         "y": [
          -1.6754498484568987
         ],
         "yaxis": "y"
        },
        {
         "hovertemplate": "color= X = 0.798572148750537  Y = 5.7842936362559065<br>x=%{x}<br>y=%{y}<extra></extra>",
         "legendgroup": " X = 0.798572148750537  Y = 5.7842936362559065",
         "marker": {
          "color": "#00cc96",
          "symbol": "circle"
         },
         "mode": "markers",
         "name": " X = 0.798572148750537  Y = 5.7842936362559065",
         "orientation": "v",
         "showlegend": true,
         "type": "scatter",
         "x": [
          0.798572148750537
         ],
         "xaxis": "x",
         "y": [
          5.7842936362559065
         ],
         "yaxis": "y"
        },
        {
         "hovertemplate": "color= X = 0.7331656596674361  Y = 5.064822256341797<br>x=%{x}<br>y=%{y}<extra></extra>",
         "legendgroup": " X = 0.7331656596674361  Y = 5.064822256341797",
         "marker": {
          "color": "#ab63fa",
          "symbol": "circle"
         },
         "mode": "markers",
         "name": " X = 0.7331656596674361  Y = 5.064822256341797",
         "orientation": "v",
         "showlegend": true,
         "type": "scatter",
         "x": [
          0.7331656596674361
         ],
         "xaxis": "x",
         "y": [
          5.064822256341797
         ],
         "yaxis": "y"
        },
        {
         "hovertemplate": "color= X = 0.14785955606775147  Y = -1.3735448832547337<br>x=%{x}<br>y=%{y}<extra></extra>",
         "legendgroup": " X = 0.14785955606775147  Y = -1.3735448832547337",
         "marker": {
          "color": "#FFA15A",
          "symbol": "circle"
         },
         "mode": "markers",
         "name": " X = 0.14785955606775147  Y = -1.3735448832547337",
         "orientation": "v",
         "showlegend": true,
         "type": "scatter",
         "x": [
          0.14785955606775147
         ],
         "xaxis": "x",
         "y": [
          -1.3735448832547337
         ],
         "yaxis": "y"
        },
        {
         "hovertemplate": "color= X = 6.471425343312909e-05  Y = -2.999288143212236<br>x=%{x}<br>y=%{y}<extra></extra>",
         "legendgroup": " X = 6.471425343312909e-05  Y = -2.999288143212236",
         "marker": {
          "color": "#19d3f3",
          "symbol": "circle"
         },
         "mode": "markers",
         "name": " X = 6.471425343312909e-05  Y = -2.999288143212236",
         "orientation": "v",
         "showlegend": true,
         "type": "scatter",
         "x": [
          0.00006471425343312909
         ],
         "xaxis": "x",
         "y": [
          -2.999288143212236
         ],
         "yaxis": "y"
        },
        {
         "hovertemplate": "color= X = 0.59127789039977  Y = 3.50405679439747<br>x=%{x}<br>y=%{y}<extra></extra>",
         "legendgroup": " X = 0.59127789039977  Y = 3.50405679439747",
         "marker": {
          "color": "#FF6692",
          "symbol": "circle"
         },
         "mode": "markers",
         "name": " X = 0.59127789039977  Y = 3.50405679439747",
         "orientation": "v",
         "showlegend": true,
         "type": "scatter",
         "x": [
          0.59127789039977
         ],
         "xaxis": "x",
         "y": [
          3.50405679439747
         ],
         "yaxis": "y"
        },
        {
         "hovertemplate": "color= X = 0.7618241774858482  Y = 5.38006595234433<br>x=%{x}<br>y=%{y}<extra></extra>",
         "legendgroup": " X = 0.7618241774858482  Y = 5.38006595234433",
         "marker": {
          "color": "#B6E880",
          "symbol": "circle"
         },
         "mode": "markers",
         "name": " X = 0.7618241774858482  Y = 5.38006595234433",
         "orientation": "v",
         "showlegend": true,
         "type": "scatter",
         "x": [
          0.7618241774858482
         ],
         "xaxis": "x",
         "y": [
          5.38006595234433
         ],
         "yaxis": "y"
        },
        {
         "hovertemplate": "color= X = 0.5344549408591007  Y = 2.879004349450108<br>x=%{x}<br>y=%{y}<extra></extra>",
         "legendgroup": " X = 0.5344549408591007  Y = 2.879004349450108",
         "marker": {
          "color": "#FF97FF",
          "symbol": "circle"
         },
         "mode": "markers",
         "name": " X = 0.5344549408591007  Y = 2.879004349450108",
         "orientation": "v",
         "showlegend": true,
         "type": "scatter",
         "x": [
          0.5344549408591007
         ],
         "xaxis": "x",
         "y": [
          2.879004349450108
         ],
         "yaxis": "y"
        },
        {
         "hovertemplate": "color= X = 0.17019985952293515  Y = -1.1278015452477135<br>x=%{x}<br>y=%{y}<extra></extra>",
         "legendgroup": " X = 0.17019985952293515  Y = -1.1278015452477135",
         "marker": {
          "color": "#FECB52",
          "symbol": "circle"
         },
         "mode": "markers",
         "name": " X = 0.17019985952293515  Y = -1.1278015452477135",
         "orientation": "v",
         "showlegend": true,
         "type": "scatter",
         "x": [
          0.17019985952293515
         ],
         "xaxis": "x",
         "y": [
          -1.1278015452477135
         ],
         "yaxis": "y"
        }
       ],
       "layout": {
        "legend": {
         "title": {
          "text": "color"
         },
         "tracegroupgap": 0
        },
        "margin": {
         "t": 60
        },
        "template": {
         "data": {
          "bar": [
           {
            "error_x": {
             "color": "#2a3f5f"
            },
            "error_y": {
             "color": "#2a3f5f"
            },
            "marker": {
             "line": {
              "color": "#E5ECF6",
              "width": 0.5
             },
             "pattern": {
              "fillmode": "overlay",
              "size": 10,
              "solidity": 0.2
             }
            },
            "type": "bar"
           }
          ],
          "barpolar": [
           {
            "marker": {
             "line": {
              "color": "#E5ECF6",
              "width": 0.5
             },
             "pattern": {
              "fillmode": "overlay",
              "size": 10,
              "solidity": 0.2
             }
            },
            "type": "barpolar"
           }
          ],
          "carpet": [
           {
            "aaxis": {
             "endlinecolor": "#2a3f5f",
             "gridcolor": "white",
             "linecolor": "white",
             "minorgridcolor": "white",
             "startlinecolor": "#2a3f5f"
            },
            "baxis": {
             "endlinecolor": "#2a3f5f",
             "gridcolor": "white",
             "linecolor": "white",
             "minorgridcolor": "white",
             "startlinecolor": "#2a3f5f"
            },
            "type": "carpet"
           }
          ],
          "choropleth": [
           {
            "colorbar": {
             "outlinewidth": 0,
             "ticks": ""
            },
            "type": "choropleth"
           }
          ],
          "contour": [
           {
            "colorbar": {
             "outlinewidth": 0,
             "ticks": ""
            },
            "colorscale": [
             [
              0,
              "#0d0887"
             ],
             [
              0.1111111111111111,
              "#46039f"
             ],
             [
              0.2222222222222222,
              "#7201a8"
             ],
             [
              0.3333333333333333,
              "#9c179e"
             ],
             [
              0.4444444444444444,
              "#bd3786"
             ],
             [
              0.5555555555555556,
              "#d8576b"
             ],
             [
              0.6666666666666666,
              "#ed7953"
             ],
             [
              0.7777777777777778,
              "#fb9f3a"
             ],
             [
              0.8888888888888888,
              "#fdca26"
             ],
             [
              1,
              "#f0f921"
             ]
            ],
            "type": "contour"
           }
          ],
          "contourcarpet": [
           {
            "colorbar": {
             "outlinewidth": 0,
             "ticks": ""
            },
            "type": "contourcarpet"
           }
          ],
          "heatmap": [
           {
            "colorbar": {
             "outlinewidth": 0,
             "ticks": ""
            },
            "colorscale": [
             [
              0,
              "#0d0887"
             ],
             [
              0.1111111111111111,
              "#46039f"
             ],
             [
              0.2222222222222222,
              "#7201a8"
             ],
             [
              0.3333333333333333,
              "#9c179e"
             ],
             [
              0.4444444444444444,
              "#bd3786"
             ],
             [
              0.5555555555555556,
              "#d8576b"
             ],
             [
              0.6666666666666666,
              "#ed7953"
             ],
             [
              0.7777777777777778,
              "#fb9f3a"
             ],
             [
              0.8888888888888888,
              "#fdca26"
             ],
             [
              1,
              "#f0f921"
             ]
            ],
            "type": "heatmap"
           }
          ],
          "heatmapgl": [
           {
            "colorbar": {
             "outlinewidth": 0,
             "ticks": ""
            },
            "colorscale": [
             [
              0,
              "#0d0887"
             ],
             [
              0.1111111111111111,
              "#46039f"
             ],
             [
              0.2222222222222222,
              "#7201a8"
             ],
             [
              0.3333333333333333,
              "#9c179e"
             ],
             [
              0.4444444444444444,
              "#bd3786"
             ],
             [
              0.5555555555555556,
              "#d8576b"
             ],
             [
              0.6666666666666666,
              "#ed7953"
             ],
             [
              0.7777777777777778,
              "#fb9f3a"
             ],
             [
              0.8888888888888888,
              "#fdca26"
             ],
             [
              1,
              "#f0f921"
             ]
            ],
            "type": "heatmapgl"
           }
          ],
          "histogram": [
           {
            "marker": {
             "pattern": {
              "fillmode": "overlay",
              "size": 10,
              "solidity": 0.2
             }
            },
            "type": "histogram"
           }
          ],
          "histogram2d": [
           {
            "colorbar": {
             "outlinewidth": 0,
             "ticks": ""
            },
            "colorscale": [
             [
              0,
              "#0d0887"
             ],
             [
              0.1111111111111111,
              "#46039f"
             ],
             [
              0.2222222222222222,
              "#7201a8"
             ],
             [
              0.3333333333333333,
              "#9c179e"
             ],
             [
              0.4444444444444444,
              "#bd3786"
             ],
             [
              0.5555555555555556,
              "#d8576b"
             ],
             [
              0.6666666666666666,
              "#ed7953"
             ],
             [
              0.7777777777777778,
              "#fb9f3a"
             ],
             [
              0.8888888888888888,
              "#fdca26"
             ],
             [
              1,
              "#f0f921"
             ]
            ],
            "type": "histogram2d"
           }
          ],
          "histogram2dcontour": [
           {
            "colorbar": {
             "outlinewidth": 0,
             "ticks": ""
            },
            "colorscale": [
             [
              0,
              "#0d0887"
             ],
             [
              0.1111111111111111,
              "#46039f"
             ],
             [
              0.2222222222222222,
              "#7201a8"
             ],
             [
              0.3333333333333333,
              "#9c179e"
             ],
             [
              0.4444444444444444,
              "#bd3786"
             ],
             [
              0.5555555555555556,
              "#d8576b"
             ],
             [
              0.6666666666666666,
              "#ed7953"
             ],
             [
              0.7777777777777778,
              "#fb9f3a"
             ],
             [
              0.8888888888888888,
              "#fdca26"
             ],
             [
              1,
              "#f0f921"
             ]
            ],
            "type": "histogram2dcontour"
           }
          ],
          "mesh3d": [
           {
            "colorbar": {
             "outlinewidth": 0,
             "ticks": ""
            },
            "type": "mesh3d"
           }
          ],
          "parcoords": [
           {
            "line": {
             "colorbar": {
              "outlinewidth": 0,
              "ticks": ""
             }
            },
            "type": "parcoords"
           }
          ],
          "pie": [
           {
            "automargin": true,
            "type": "pie"
           }
          ],
          "scatter": [
           {
            "fillpattern": {
             "fillmode": "overlay",
             "size": 10,
             "solidity": 0.2
            },
            "type": "scatter"
           }
          ],
          "scatter3d": [
           {
            "line": {
             "colorbar": {
              "outlinewidth": 0,
              "ticks": ""
             }
            },
            "marker": {
             "colorbar": {
              "outlinewidth": 0,
              "ticks": ""
             }
            },
            "type": "scatter3d"
           }
          ],
          "scattercarpet": [
           {
            "marker": {
             "colorbar": {
              "outlinewidth": 0,
              "ticks": ""
             }
            },
            "type": "scattercarpet"
           }
          ],
          "scattergeo": [
           {
            "marker": {
             "colorbar": {
              "outlinewidth": 0,
              "ticks": ""
             }
            },
            "type": "scattergeo"
           }
          ],
          "scattergl": [
           {
            "marker": {
             "colorbar": {
              "outlinewidth": 0,
              "ticks": ""
             }
            },
            "type": "scattergl"
           }
          ],
          "scattermapbox": [
           {
            "marker": {
             "colorbar": {
              "outlinewidth": 0,
              "ticks": ""
             }
            },
            "type": "scattermapbox"
           }
          ],
          "scatterpolar": [
           {
            "marker": {
             "colorbar": {
              "outlinewidth": 0,
              "ticks": ""
             }
            },
            "type": "scatterpolar"
           }
          ],
          "scatterpolargl": [
           {
            "marker": {
             "colorbar": {
              "outlinewidth": 0,
              "ticks": ""
             }
            },
            "type": "scatterpolargl"
           }
          ],
          "scatterternary": [
           {
            "marker": {
             "colorbar": {
              "outlinewidth": 0,
              "ticks": ""
             }
            },
            "type": "scatterternary"
           }
          ],
          "surface": [
           {
            "colorbar": {
             "outlinewidth": 0,
             "ticks": ""
            },
            "colorscale": [
             [
              0,
              "#0d0887"
             ],
             [
              0.1111111111111111,
              "#46039f"
             ],
             [
              0.2222222222222222,
              "#7201a8"
             ],
             [
              0.3333333333333333,
              "#9c179e"
             ],
             [
              0.4444444444444444,
              "#bd3786"
             ],
             [
              0.5555555555555556,
              "#d8576b"
             ],
             [
              0.6666666666666666,
              "#ed7953"
             ],
             [
              0.7777777777777778,
              "#fb9f3a"
             ],
             [
              0.8888888888888888,
              "#fdca26"
             ],
             [
              1,
              "#f0f921"
             ]
            ],
            "type": "surface"
           }
          ],
          "table": [
           {
            "cells": {
             "fill": {
              "color": "#EBF0F8"
             },
             "line": {
              "color": "white"
             }
            },
            "header": {
             "fill": {
              "color": "#C8D4E3"
             },
             "line": {
              "color": "white"
             }
            },
            "type": "table"
           }
          ]
         },
         "layout": {
          "annotationdefaults": {
           "arrowcolor": "#2a3f5f",
           "arrowhead": 0,
           "arrowwidth": 1
          },
          "autotypenumbers": "strict",
          "coloraxis": {
           "colorbar": {
            "outlinewidth": 0,
            "ticks": ""
           }
          },
          "colorscale": {
           "diverging": [
            [
             0,
             "#8e0152"
            ],
            [
             0.1,
             "#c51b7d"
            ],
            [
             0.2,
             "#de77ae"
            ],
            [
             0.3,
             "#f1b6da"
            ],
            [
             0.4,
             "#fde0ef"
            ],
            [
             0.5,
             "#f7f7f7"
            ],
            [
             0.6,
             "#e6f5d0"
            ],
            [
             0.7,
             "#b8e186"
            ],
            [
             0.8,
             "#7fbc41"
            ],
            [
             0.9,
             "#4d9221"
            ],
            [
             1,
             "#276419"
            ]
           ],
           "sequential": [
            [
             0,
             "#0d0887"
            ],
            [
             0.1111111111111111,
             "#46039f"
            ],
            [
             0.2222222222222222,
             "#7201a8"
            ],
            [
             0.3333333333333333,
             "#9c179e"
            ],
            [
             0.4444444444444444,
             "#bd3786"
            ],
            [
             0.5555555555555556,
             "#d8576b"
            ],
            [
             0.6666666666666666,
             "#ed7953"
            ],
            [
             0.7777777777777778,
             "#fb9f3a"
            ],
            [
             0.8888888888888888,
             "#fdca26"
            ],
            [
             1,
             "#f0f921"
            ]
           ],
           "sequentialminus": [
            [
             0,
             "#0d0887"
            ],
            [
             0.1111111111111111,
             "#46039f"
            ],
            [
             0.2222222222222222,
             "#7201a8"
            ],
            [
             0.3333333333333333,
             "#9c179e"
            ],
            [
             0.4444444444444444,
             "#bd3786"
            ],
            [
             0.5555555555555556,
             "#d8576b"
            ],
            [
             0.6666666666666666,
             "#ed7953"
            ],
            [
             0.7777777777777778,
             "#fb9f3a"
            ],
            [
             0.8888888888888888,
             "#fdca26"
            ],
            [
             1,
             "#f0f921"
            ]
           ]
          },
          "colorway": [
           "#636efa",
           "#EF553B",
           "#00cc96",
           "#ab63fa",
           "#FFA15A",
           "#19d3f3",
           "#FF6692",
           "#B6E880",
           "#FF97FF",
           "#FECB52"
          ],
          "font": {
           "color": "#2a3f5f"
          },
          "geo": {
           "bgcolor": "white",
           "lakecolor": "white",
           "landcolor": "#E5ECF6",
           "showlakes": true,
           "showland": true,
           "subunitcolor": "white"
          },
          "hoverlabel": {
           "align": "left"
          },
          "hovermode": "closest",
          "mapbox": {
           "style": "light"
          },
          "paper_bgcolor": "white",
          "plot_bgcolor": "#E5ECF6",
          "polar": {
           "angularaxis": {
            "gridcolor": "white",
            "linecolor": "white",
            "ticks": ""
           },
           "bgcolor": "#E5ECF6",
           "radialaxis": {
            "gridcolor": "white",
            "linecolor": "white",
            "ticks": ""
           }
          },
          "scene": {
           "xaxis": {
            "backgroundcolor": "#E5ECF6",
            "gridcolor": "white",
            "gridwidth": 2,
            "linecolor": "white",
            "showbackground": true,
            "ticks": "",
            "zerolinecolor": "white"
           },
           "yaxis": {
            "backgroundcolor": "#E5ECF6",
            "gridcolor": "white",
            "gridwidth": 2,
            "linecolor": "white",
            "showbackground": true,
            "ticks": "",
            "zerolinecolor": "white"
           },
           "zaxis": {
            "backgroundcolor": "#E5ECF6",
            "gridcolor": "white",
            "gridwidth": 2,
            "linecolor": "white",
            "showbackground": true,
            "ticks": "",
            "zerolinecolor": "white"
           }
          },
          "shapedefaults": {
           "line": {
            "color": "#2a3f5f"
           }
          },
          "ternary": {
           "aaxis": {
            "gridcolor": "white",
            "linecolor": "white",
            "ticks": ""
           },
           "baxis": {
            "gridcolor": "white",
            "linecolor": "white",
            "ticks": ""
           },
           "bgcolor": "#E5ECF6",
           "caxis": {
            "gridcolor": "white",
            "linecolor": "white",
            "ticks": ""
           }
          },
          "title": {
           "x": 0.05
          },
          "xaxis": {
           "automargin": true,
           "gridcolor": "white",
           "linecolor": "white",
           "ticks": "",
           "title": {
            "standoff": 15
           },
           "zerolinecolor": "white",
           "zerolinewidth": 2
          },
          "yaxis": {
           "automargin": true,
           "gridcolor": "white",
           "linecolor": "white",
           "ticks": "",
           "title": {
            "standoff": 15
           },
           "zerolinecolor": "white",
           "zerolinewidth": 2
          }
         }
        },
        "xaxis": {
         "anchor": "y",
         "domain": [
          0,
          1
         ],
         "title": {
          "text": "x"
         }
        },
        "yaxis": {
         "anchor": "x",
         "domain": [
          0,
          1
         ],
         "title": {
          "text": "y"
         }
        }
       }
      }
     },
     "metadata": {},
     "output_type": "display_data"
    }
   ],
   "source": [
    "# construção do gráfico\n",
    "fig = px.scatter(x=x, y=y, color=resultx_y)\n",
    "fig.show()"
   ]
  }
 ],
 "metadata": {
  "kernelspec": {
   "display_name": "Python 3",
   "language": "python",
   "name": "python3"
  },
  "language_info": {
   "codemirror_mode": {
    "name": "ipython",
    "version": 3
   },
   "file_extension": ".py",
   "mimetype": "text/x-python",
   "name": "python",
   "nbconvert_exporter": "python",
   "pygments_lexer": "ipython3",
   "version": "3.10.6"
  },
  "orig_nbformat": 4
 },
 "nbformat": 4,
 "nbformat_minor": 2
}
